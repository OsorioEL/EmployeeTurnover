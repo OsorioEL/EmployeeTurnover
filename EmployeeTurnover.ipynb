{
 "cells": [
  {
   "cell_type": "markdown",
   "metadata": {},
   "source": [
    "# Project Statement:\n",
    "### Portobello Tech is an app innovator who has devised an intelligent way of predicting employee turnover within the company. It periodically evaluates employees' work details, including the number of projects they worked on, average monthly working hours, time spent in the company, promotions in the last five years, and salary level.\n",
    "### Data from prior evaluations shows the employees’ satisfaction in the workplace. The data could be used to identify patterns in work style and their interest in continuing to work for the company.\n",
    "### The HR Department owns the data and uses it to predict employee turnover. Employee turnover refers to the total number of workers who leave a company over time.\n",
    "### As the ML Developer assigned to the HR Department, we have been asked to create ML programs to:\n",
    "### 1. Perform data quality checks by checking for missing values, if any.\n",
    "### 2. Understand what factors contributed most to employee turnover at EDA.\n",
    "### 3. Perform clustering of employees who left based on their satisfaction and evaluation.\n",
    "### 4. Handle the left Class Imbalance using the SMOTE technique.\n",
    "### 5. Perform k-fold cross-validation model training and evaluate performance.\n",
    "### 6. Identify the best model and justify the evaluation metrics used.\n",
    "### 7. Suggest various retention strategies for targeted employees."
   ]
  },
  {
   "cell_type": "code",
   "execution_count": 1,
   "metadata": {},
   "outputs": [],
   "source": [
    "import pandas as pd\n",
    "import numpy as np\n",
    "import matplotlib.pyplot as plt\n",
    "import seaborn as sns\n",
    "from sklearn.preprocessing import StandardScaler"
   ]
  },
  {
   "cell_type": "code",
   "execution_count": 2,
   "metadata": {},
   "outputs": [],
   "source": [
    "# open hr_comma_sep.csv\n",
    "df = pd.read_csv('hr_comma_sep.csv')\n"
   ]
  },
  {
   "cell_type": "code",
   "execution_count": null,
   "metadata": {},
   "outputs": [],
   "source": []
  }
 ],
 "metadata": {
  "kernelspec": {
   "display_name": "base",
   "language": "python",
   "name": "python3"
  },
  "language_info": {
   "codemirror_mode": {
    "name": "ipython",
    "version": 3
   },
   "file_extension": ".py",
   "mimetype": "text/x-python",
   "name": "python",
   "nbconvert_exporter": "python",
   "pygments_lexer": "ipython3",
   "version": "3.11.7"
  }
 },
 "nbformat": 4,
 "nbformat_minor": 2
}
